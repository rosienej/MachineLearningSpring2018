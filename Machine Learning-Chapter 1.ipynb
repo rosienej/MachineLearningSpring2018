{
 "cells": [
  {
   "cell_type": "markdown",
   "metadata": {
    "slideshow": {
     "slide_type": "slide"
    }
   },
   "source": [
    " \n",
    "## Machine Learning, Spring 2018 \n",
    "###  Chapter 1\n",
    "####  Joel Rosiene, rosienej@easternct.edu \n",
    "##### Material Obtainable from http://aima.cs.berkeley.edu/instructors.html\n",
    " \n",
    "\n"
   ]
  },
  {
   "cell_type": "markdown",
   "metadata": {
    "slideshow": {
     "slide_type": "slide"
    }
   },
   "source": [
    "Views of AI fall into four categories:\n",
    "\n",
    "\\begin{array}{|l|l|}\n",
    "\\hline\n",
    " \\mbox{ Thinking  humanly} & \\mbox{Thinking   rationally} \\\\\n",
    "\\hline\n",
    "  \\mbox{Acting  humanly} & \\mbox{Acting  rationally} \\\\\n",
    "\\hline\n",
    "\\end{array}\n",
    "\n",
    "We will focus on creating programs which appear to act rationally, given the input data.\n"
   ]
  },
  {
   "cell_type": "markdown",
   "metadata": {
    "collapsed": true,
    "slideshow": {
     "slide_type": "slide"
    }
   },
   "source": [
    "## Acting humanly: The Turing test\n",
    "\n",
    "### Turing (1950) \"Computing machinery and intelligence\":\n",
    "-  Can machines think? $ \\longrightarrow $ Can machines behave intelligently?\n",
    "-  Operational test for intelligent behavior: the Imitation Game\n",
    "<center>\n",
    "<img src=\"./turing.jpg\" width=\"200\">\n",
    "</center>\n",
    "- Predicted that by 2000, a machine might have a $30 % $ chance of fooling a lay person for 5 minutes\n",
    "- Anticipated all major arguments against AI in following 50 years\n",
    "- Suggested major components of AI: knowledge, reasoning, language understanding, learning\n",
    "- Problem: Turing test is not $\\underline{\\mbox{reproducible}}$, $\\underline{\\mbox{constructive}}$, or amenable to $\\underline{\\mbox{mathematical analysis}}$"
   ]
  },
  {
   "cell_type": "markdown",
   "metadata": {
    "slideshow": {
     "slide_type": "slide"
    }
   },
   "source": [
    "## Thinking humanly: Cognitive Science\t\n",
    "\n",
    "1960s \"cognitive revolution\": information-processing psychology replaced prevailing orthodoxy of behaviorism\n",
    "\n",
    "Requires scientific theories of internal activities of the brain \n",
    " - What level of abstraction? \"Knowledge'' or \"circuits\"? \n",
    " - How to validate? Requires \n",
    " \n",
    "    * 1) Predicting and testing behavior of human subjects (top-down) \n",
    "    * 2) Direct identification from neurological data (bottom-up)\n",
    "\n",
    "Both approaches (roughly, Cognitive Science and Cognitive Neuroscience) are now distinct from AI"
   ]
  },
  {
   "cell_type": "markdown",
   "metadata": {
    "slideshow": {
     "slide_type": "slide"
    }
   },
   "source": [
    "## Thinking rationally: Laws of Thought\n",
    "\n",
    "**Normative** (or **prescriptive**) rather than **descriptive**\n",
    "\n",
    "Aristotle: what are correct arguments/thought processes?\n",
    "\n",
    "Several Greek schools developed various forms of **logic**:\n",
    "   **notation** and **rules of derivation** for thoughts;\n",
    "may or may not have proceeded to the idea of mechanization\n",
    "\n",
    "Direct line through mathematics and philosophy to modern AI\n",
    "\n",
    "Problems: \n",
    "1. Not all intelligent behavior is mediated by logical deliberation\n",
    "2. What is the purpose of thinking? What thoughts should I have?"
   ]
  },
  {
   "cell_type": "markdown",
   "metadata": {
    "slideshow": {
     "slide_type": "slide"
    }
   },
   "source": [
    "## Acting rationally\n",
    "\n",
    "**Rational** behavior: doing the right thing\n",
    "\n",
    "The right thing: that which is expected to maximize goal achievement,\n",
    "given the available information\n",
    "\n",
    "Doesn't necessarily involve thinking---e.g., blinking reflex---but\n",
    "thinking should be in the service of rational action\n",
    "\n",
    "Aristotle (Nicomachean Ethics):<br> \n",
    "  * Every art and every inquiry, and similarly every action \n",
    "       and pursuit, is thought to aim at some good*\n"
   ]
  },
  {
   "cell_type": "markdown",
   "metadata": {
    "slideshow": {
     "slide_type": "slide"
    }
   },
   "source": [
    "## Rational agents\n",
    "\n",
    "An **agent** is an entity that perceives and acts\n",
    "\n",
    "This course is about designing rational agents\n",
    "\n",
    "Abstractly, an agent is a function from percept histories to actions: \n",
    "<center>\n",
    "<div class=\"alert alert-block alert-warning\">\n",
    "$f: {\\cal P}^* \\rightarrow {\\cal A}$\n",
    "</div>\n",
    "</center>\n",
    "For any given class of environments and tasks, we seek the\n",
    "agent (or class of agents) with the best performance\n",
    "\n",
    "Caveat: computational limitations make perfect rationality unachievable\n",
    "$\\rightarrow$ design best **program** for given machine resources"
   ]
  },
  {
   "cell_type": "markdown",
   "metadata": {
    "slideshow": {
     "slide_type": "slide"
    }
   },
   "source": [
    "## AI prehistory\n",
    "\n",
    "\\begin{array}{ll}\n",
    "Philosophy & \\mbox{ logic, methods of reasoning}\\\\\n",
    "           & \\mbox{ mind as physical system}\\\\\n",
    "           & \\mbox{ foundations of learning, language, rationality}\\\\\n",
    "Mathematics& \\mbox{ formal representation and proof}\\\\\n",
    "           & \\mbox{ algorithms}\\\\\n",
    "           & \\mbox{ computation, (un)decidability, (in)tractability}\\\\\n",
    "           & \\mbox{ probability}\\\\\n",
    "Psychology & \\mbox{ adaptation}\\\\\n",
    "           & \\mbox{ phenomena of perception and motor control}\\\\\n",
    "           & \\mbox{ experimental techniques (psychophysics, etc.)}\\\\\n",
    "Linguistics& \\mbox{ knowledge representation}\\\\\n",
    "           & \\mbox{ grammar}\\\\\n",
    "Neuroscience& \\mbox{ physical substrate for mental activity}\\\\\n",
    "Control \\ theory& \\mbox{ homeostatic systems, stability}\\\\\n",
    "           & \\mbox{ simple optimal agent designs}\n",
    "\\end{array}"
   ]
  },
  {
   "cell_type": "markdown",
   "metadata": {
    "slideshow": {
     "slide_type": "slide"
    }
   },
   "source": [
    "## Summary  of AI\n",
    "\n",
    "\n",
    "\\begin{array}{ll}\n",
    " 1943      &  \\mbox{ McCulloch & Pitts: Boolean circuit model of brain}\\\\\n",
    " 1950      &  \\mbox{ Turing's \"Computing Machinery and Intelligence\"}\\\\\n",
    " 1952-69   &  \\mbox{ Look, Ma, no hands!} \\\\\n",
    " 1950s     &  \\mbox{ Early AI programs, including Samuel's checkers program,}\\\\\n",
    "          &   \\mbox{  Newell & Simon's Logic Theorist, Gelernter's Geometry Engine}\\\\\n",
    " 1956      &  \\mbox{ Dartmouth meeting: \"Artificial Intelligence\" adopted}\\\\\n",
    " 1965      &  \\mbox{ Robinson's complete algorithm for logical reasoning}\\\\\n",
    " 1966-74   &  \\mbox{   AI discovers computational complexity}\\\\\n",
    "          &  \\mbox{   Neural network research almost disappears}\\\\\n",
    " 1969-79   &  \\mbox{  Early development of knowledge-based systems}\\\\\n",
    " 1980-88   &  \\mbox{  Expert systems industry booms}\\\\\n",
    " 1988-93   &  \\mbox{  Expert systems industry busts: \"AI Winter\"}\\\\\n",
    " 1985-95   &  \\mbox{ Neural networks return to popularity}\\\\\n",
    " 1988-     &  \\mbox{Resurgence of probabilistic and decision-theoretic methods}\\\\\n",
    "          &  \\mbox{Rapid increase in technical depth of mainstream AI}\\\\\n",
    "          &  \\mbox{\"Nouvelle AI\": ALife, GAs, soft computing }\\\\\n",
    "          &  \\mbox{Big Data, Sensors, Cloud Systems, Deep Learning }\n",
    "\\end{array}\n"
   ]
  },
  {
   "cell_type": "markdown",
   "metadata": {},
   "source": [
    " ## Autonomous Systems\n",
    " \n",
    " A **what if** video with a message from Professor Stuart Russell. (click on the image for Slaughterbots)\n",
    " \n",
    " [![Slaughterbots](https://autonomousweapons.org/wp-content/uploads/2017/12/slaughterbots_they_cannot_be_stopped__234846-300x150.jpg)](https://youtu.be/9CO6M2HsoIA \"Slaughterbots\")\n",
    " \n",
    " Of course better sensors and manipulators (delivery mechanisms) can improve the accuracy (think CRISPR)"
   ]
  },
  {
   "cell_type": "code",
   "execution_count": null,
   "metadata": {
    "collapsed": true
   },
   "outputs": [],
   "source": []
  }
 ],
 "metadata": {
  "celltoolbar": "Slideshow",
  "kernelspec": {
   "display_name": "Python 3",
   "language": "python",
   "name": "python3"
  },
  "language_info": {
   "codemirror_mode": {
    "name": "ipython",
    "version": 3
   },
   "file_extension": ".py",
   "mimetype": "text/x-python",
   "name": "python",
   "nbconvert_exporter": "python",
   "pygments_lexer": "ipython3",
   "version": "3.6.1"
  }
 },
 "nbformat": 4,
 "nbformat_minor": 2
}
